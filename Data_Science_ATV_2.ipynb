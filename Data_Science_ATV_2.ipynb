{
  "nbformat": 4,
  "nbformat_minor": 0,
  "metadata": {
    "colab": {
      "provenance": [],
      "authorship_tag": "ABX9TyNOqRH/hCH1lqtwPhOGfdzN",
      "include_colab_link": true
    },
    "kernelspec": {
      "name": "python3",
      "display_name": "Python 3"
    },
    "language_info": {
      "name": "python"
    }
  },
  "cells": [
    {
      "cell_type": "markdown",
      "metadata": {
        "id": "view-in-github",
        "colab_type": "text"
      },
      "source": [
        "<a href=\"https://colab.research.google.com/github/DaviSF09/datascience/blob/main/Data_Science_ATV_2.ipynb\" target=\"_parent\"><img src=\"https://colab.research.google.com/assets/colab-badge.svg\" alt=\"Open In Colab\"/></a>"
      ]
    },
    {
      "cell_type": "code",
      "execution_count": null,
      "metadata": {
        "colab": {
          "base_uri": "https://localhost:8080/"
        },
        "id": "dX_X1-pxgZaJ",
        "outputId": "618e50ce-30d0-4b1a-a787-3bec6ba48119"
      },
      "outputs": [
        {
          "output_type": "stream",
          "name": "stdout",
          "text": [
            "Insira um número inteiro: 13\n",
            "O número está entre 10 e 20\n"
          ]
        }
      ],
      "source": [
        "num=int(input(\"Insira um número inteiro: \"))\n",
        "if 10<num<20:\n",
        "  print(\"O número está entre 10 e 20\")\n",
        "else:\n",
        "  print(\"O número não está entre 10 e 20\")"
      ]
    },
    {
      "cell_type": "code",
      "source": [
        "idade=int(input(\"Insira sua idade: \"))\n",
        "autorizacao=int(input(\"Tem autorização dos pais para assistir ao filme? (Sim=1. Não=2) \"))\n",
        "if idade>17 and autorizacao==1:\n",
        "  print(\"Entrada permitida, aproveite o filme.\")\n",
        "else:\n",
        "  print(\"Entrada negada.\")"
      ],
      "metadata": {
        "colab": {
          "base_uri": "https://localhost:8080/"
        },
        "id": "qgMUKPtoggB1",
        "outputId": "bd3d6763-1983-4156-892b-456f0eadadd3"
      },
      "execution_count": null,
      "outputs": [
        {
          "output_type": "stream",
          "name": "stdout",
          "text": [
            "Insira sua idade: 19\n",
            "Tem autorização dos pais para assistir ao filme? (Sim=1. Não=2) 1\n",
            "Entrada permitida, aproveite o filme\n"
          ]
        }
      ]
    },
    {
      "cell_type": "code",
      "source": [
        "num=int(input(\"Insira um número: \"))\n",
        "resto=num%2\n",
        "if num>0 and resto==0:\n",
        "  print(\"O número\",num,\"é positivo e par\")\n",
        "elif num<0 and resto!=0:\n",
        "  print(\"O número\",num,\"não é positivo nem par\")\n",
        "elif resto!=0:\n",
        "  print(\"O número\",num,\"não é par\")\n",
        "elif num<0:\n",
        "  print(\"O número\",num,\"não é positivo\")"
      ],
      "metadata": {
        "colab": {
          "base_uri": "https://localhost:8080/"
        },
        "id": "-L3-V6p9gvUc",
        "outputId": "d261d43c-3b70-45a0-ebd0-38e055f9bebc"
      },
      "execution_count": null,
      "outputs": [
        {
          "output_type": "stream",
          "name": "stdout",
          "text": [
            "Insira um número: -4\n",
            "O número -4 não é positivo\n"
          ]
        }
      ]
    },
    {
      "cell_type": "code",
      "source": [
        "num=int(input(\"Insira o último número da placa de seu carro: \"))\n",
        "if num==1 or num==2:\n",
        "  print(\"Seu carro só é permitido circular às segundas-feiras\")\n",
        "elif num==3 or num==4:\n",
        "  print(\"Seu carro só é permitido circular às terças-feiras\")\n",
        "elif num==5 or num==6:\n",
        "  print(\"Seu carro só é permitido circular às quartas-feiras\")\n",
        "elif num==7 or num==8:\n",
        "  print(\"Seu carro só é permitido circular às quintas-feiras\")\n",
        "elif num==9 or num==0:\n",
        "  print(\"Seu carro só é permitido circular às sextas-feiras\")\n",
        "else:\n",
        "  print(\"Número inválido, tente novamente.\")"
      ],
      "metadata": {
        "colab": {
          "base_uri": "https://localhost:8080/"
        },
        "id": "r9vRkyjfg0fj",
        "outputId": "6f055d46-9e9a-48f4-874f-a7f0bbcd1bb3"
      },
      "execution_count": null,
      "outputs": [
        {
          "output_type": "stream",
          "name": "stdout",
          "text": [
            "Insira o último número da placa de seu carro: 16\n",
            "Número inválido, tente novamente.\n"
          ]
        }
      ]
    }
  ]
}