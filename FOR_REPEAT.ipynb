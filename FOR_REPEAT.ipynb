{
  "nbformat": 4,
  "nbformat_minor": 0,
  "metadata": {
    "colab": {
      "provenance": [],
      "authorship_tag": "ABX9TyMCAJMcyJ1AAkJyR8QkeH7z",
      "include_colab_link": true
    },
    "kernelspec": {
      "name": "python3",
      "display_name": "Python 3"
    },
    "language_info": {
      "name": "python"
    }
  },
  "cells": [
    {
      "cell_type": "markdown",
      "metadata": {
        "id": "view-in-github",
        "colab_type": "text"
      },
      "source": [
        "<a href=\"https://colab.research.google.com/github/DaviSF09/datascience/blob/main/FOR_REPEAT.ipynb\" target=\"_parent\"><img src=\"https://colab.research.google.com/assets/colab-badge.svg\" alt=\"Open In Colab\"/></a>"
      ]
    },
    {
      "cell_type": "code",
      "execution_count": 1,
      "metadata": {
        "colab": {
          "base_uri": "https://localhost:8080/"
        },
        "id": "FeBvaQPgr6u5",
        "outputId": "2fc73313-b673-47ce-98c4-7e6ddd401ac8"
      },
      "outputs": [
        {
          "output_type": "stream",
          "name": "stdout",
          "text": [
            "2\n"
          ]
        }
      ],
      "source": [
        "tucadonka = 1\n",
        "tucadonka +=1\n",
        "print(tucadonka)"
      ]
    },
    {
      "cell_type": "code",
      "source": [
        "tucadonka = 10\n",
        "tucadonka -=3\n",
        "print(tucadonka)"
      ],
      "metadata": {
        "colab": {
          "base_uri": "https://localhost:8080/"
        },
        "id": "eBf0PbxvpRer",
        "outputId": "97b802fe-e308-496e-e45f-d23027b20d7e"
      },
      "execution_count": 2,
      "outputs": [
        {
          "output_type": "stream",
          "name": "stdout",
          "text": [
            "7\n"
          ]
        }
      ]
    },
    {
      "cell_type": "code",
      "source": [
        "valor = int(input(\"Digite um número: \"))\n",
        "tuts = 10\n",
        "tuts -=valor\n",
        "print(\"O novo valor é:\",tuts)"
      ],
      "metadata": {
        "colab": {
          "base_uri": "https://localhost:8080/"
        },
        "id": "Xqly-iMepa1S",
        "outputId": "02a28ad2-7bf6-4ee3-c567-71b060ab0361"
      },
      "execution_count": 8,
      "outputs": [
        {
          "output_type": "stream",
          "name": "stdout",
          "text": [
            "Digite um número: 57\n",
            "O novo valor é: -47\n"
          ]
        }
      ]
    },
    {
      "cell_type": "code",
      "source": [
        "tuca = \"tuca\"\n",
        "donka = \" donka\"\n",
        "tuca += donka\n",
        "print(tuca)"
      ],
      "metadata": {
        "colab": {
          "base_uri": "https://localhost:8080/"
        },
        "id": "EnJk5HkIsCEJ",
        "outputId": "1566f039-a7f2-46ec-a5ac-d304867febc9"
      },
      "execution_count": 7,
      "outputs": [
        {
          "output_type": "stream",
          "name": "stdout",
          "text": [
            "tuca donka\n"
          ]
        }
      ]
    },
    {
      "cell_type": "code",
      "source": [
        "volei = [\"Bene\", \"Eloi\", \"Davi\", \"Heitore\"]\n",
        "for jogador in volei:\n",
        "  print(jogador)"
      ],
      "metadata": {
        "colab": {
          "base_uri": "https://localhost:8080/"
        },
        "id": "cFfQ92nsrJvz",
        "outputId": "92d55a69-e1e8-466e-e5f8-4a97bb79ac99"
      },
      "execution_count": 16,
      "outputs": [
        {
          "output_type": "stream",
          "name": "stdout",
          "text": [
            "Bene\n",
            "Eloi\n",
            "Davi\n",
            "Heitore\n"
          ]
        }
      ]
    },
    {
      "cell_type": "code",
      "source": [
        "frase = str(input(\"Insira a frase a ser soletrada: \"))\n",
        "for palavra in frase:\n",
        "  print(palavra)"
      ],
      "metadata": {
        "colab": {
          "base_uri": "https://localhost:8080/"
        },
        "id": "XZf3v3E_t8bU",
        "outputId": "286248df-1993-4bab-ab95-f15efcea4895"
      },
      "execution_count": 18,
      "outputs": [
        {
          "output_type": "stream",
          "name": "stdout",
          "text": [
            "Insira a frase a ser soletrada: Vamos tatakear\n",
            "V\n",
            "a\n",
            "m\n",
            "o\n",
            "s\n",
            " \n",
            "t\n",
            "a\n",
            "t\n",
            "a\n",
            "k\n",
            "e\n",
            "a\n",
            "r\n"
          ]
        }
      ]
    },
    {
      "cell_type": "code",
      "source": [
        "cores = [\"Vermelho\",\"Azul\",\"Vazio Roxo\",\"MURIO KUSHOOOOOOOOOO\"]\n",
        "for cor in cores:\n",
        "  print(cor)\n",
        "else:\n",
        "  for cor in cores:\n",
        "    print(cor)"
      ],
      "metadata": {
        "colab": {
          "base_uri": "https://localhost:8080/"
        },
        "id": "3ZSehDrrvBW9",
        "outputId": "c7366eb1-2585-455e-ff41-b2defd73897a"
      },
      "execution_count": 21,
      "outputs": [
        {
          "output_type": "stream",
          "name": "stdout",
          "text": [
            "Vermelho\n",
            "Azul\n",
            "Vazio Roxo\n",
            "MURIO KUSHOOOOOOOOOO\n",
            "Vermelho\n",
            "Azul\n",
            "Vazio Roxo\n",
            "MURIO KUSHOOOOOOOOOO\n"
          ]
        }
      ]
    }
  ]
}