{
  "nbformat": 4,
  "nbformat_minor": 0,
  "metadata": {
    "colab": {
      "provenance": []
    },
    "kernelspec": {
      "name": "python3",
      "display_name": "Python 3"
    },
    "language_info": {
      "name": "python"
    }
  },
  "cells": [
    {
      "cell_type": "code",
      "execution_count": 10,
      "metadata": {
        "colab": {
          "base_uri": "https://localhost:8080/"
        },
        "id": "JtQvPh-HKnLr",
        "outputId": "c53cc5ee-cf32-4d18-db6d-734e4caa52a2"
      },
      "outputs": [
        {
          "output_type": "stream",
          "name": "stdout",
          "text": [
            "Digite o nome de usuário do administrador: Davi\n",
            "Digite a senha de usuário do administrador, apenas números: 123\n",
            "Menu: Cadastro direto=1. Cadastro de professor=2. Cadastro de aluno=3. Calculadora=4\n",
            "Insira o número correspondente à opção desejada:4\n",
            "Digite o número 1:4\n",
            "Digite o número 2:0\n",
            "Digite a operação:/\n",
            "erro, não é possível dividir por 0\n"
          ]
        }
      ],
      "source": [
        "nome1=(\"Davi\")\n",
        "senha1=str(123)\n",
        "nome2=str(input(\"Digite o nome de usuário do administrador: \"))\n",
        "senha2=str(input(\"Digite a senha de usuário do administrador, apenas números: \"))\n",
        "if nome2==nome1 and senha2==senha1:\n",
        "  print(\"Menu: Cadastro direto=1. Cadastro de professor=2. Cadastro de aluno=3. Calculadora=4\")\n",
        "  selecao=int(input(\"Insira o número correspondente à opção desejada:\"))\n",
        "  if selecao==1:\n",
        "    print(\"Cadastro direto: \")\n",
        "    nome=input(\"Cadastre seu nome: \")\n",
        "    senha=input(\"Cadastre sua senha: \")\n",
        "    id=input(\"Cadastre seu ID: \")\n",
        "    print(\"Dados: Nome: \",nome,\"Senha: \",senha,\"ID: \",id)\n",
        "  elif selecao==2:\n",
        "    print(\"Cadastro de professor: \")\n",
        "    nome=input(\"Cadastre seu nome: \")\n",
        "    materia=input(\"Insira sua matéria lecionada: \")\n",
        "    id=input(\"Cadastre seu ID: \")\n",
        "    print(\"Dados: Nome: \",nome,\"Matéria lecionada: \",materia,\"ID: \",id)\n",
        "  elif selecao==3:\n",
        "    print(\"Cadastro de aluno: \")\n",
        "    nome=input(\"Cadastre seu nome: \")\n",
        "    materia=input(\"Insira sua matéria: \")\n",
        "    senha=input(\"Cadastre sua senha: \")\n",
        "    ano=input(\"Ano: \")\n",
        "    print(\"Dados: Nome: \",nome,\"Matéria: \",materia,\"Senha: \",senha,\"Ano: \",ano)\n",
        "  elif selecao==4:\n",
        "    n = float(input(\"Digite o número 1:\"))\n",
        "    m = float(input(\"Digite o número 2:\"))\n",
        "    op = input(\"Digite a operação:\")\n",
        "    if op == \"+\":\n",
        "      print(\"Operação realizada: \",n,op,m,\"=\",n+m)\n",
        "    elif op == \"-\":\n",
        "      print(\"Operação realizada: \",n,op,m,\"=\",n-m)\n",
        "    elif op == \"*\":\n",
        "      print(\"Operação realizada: \",n,op,m,\"=\",n*m)\n",
        "    elif op == \"/\":\n",
        "      if m == 0:\n",
        "        print(\"Erro! não é possível dividir por 0\")\n",
        "      else:\n",
        "        print(\"Operação realizada: \",n,op,m,\"=\",n/m)\n",
        "  else:\n",
        "    print(\"Tente novamente, operação inválida\")\n",
        "else:\n",
        "  print(\"Nome ou senha incorretos, tente novamente.\")"
      ]
    }
  ]
}