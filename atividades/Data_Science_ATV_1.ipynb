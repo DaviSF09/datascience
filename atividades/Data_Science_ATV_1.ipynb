{
  "nbformat": 4,
  "nbformat_minor": 0,
  "metadata": {
    "colab": {
      "provenance": [],
      "authorship_tag": "ABX9TyN+SaulNLPrZNjyjPTdssYY",
      "include_colab_link": true
    },
    "kernelspec": {
      "name": "python3",
      "display_name": "Python 3"
    },
    "language_info": {
      "name": "python"
    }
  },
  "cells": [
    {
      "cell_type": "markdown",
      "metadata": {
        "id": "view-in-github",
        "colab_type": "text"
      },
      "source": [
        "<a href=\"https://colab.research.google.com/github/DaviSF09/datascience/blob/main/Data_Science_ATV_1.ipynb\" target=\"_parent\"><img src=\"https://colab.research.google.com/assets/colab-badge.svg\" alt=\"Open In Colab\"/></a>"
      ]
    },
    {
      "cell_type": "markdown",
      "source": [
        "2-int=numero inteiro\n",
        "  float=numero decimal\n",
        "  str=string(texto)\n",
        "  bool=logica"
      ],
      "metadata": {
        "id": "3Fr2Qd2fwoXr"
      }
    },
    {
      "cell_type": "code",
      "source": [
        "print(\"Olá, Mundo!\")"
      ],
      "metadata": {
        "colab": {
          "base_uri": "https://localhost:8080/"
        },
        "id": "DXoolsq6wq1h",
        "outputId": "90e67d6d-3126-4767-ea9a-12fdc6963936"
      },
      "execution_count": null,
      "outputs": [
        {
          "output_type": "stream",
          "name": "stdout",
          "text": [
            "Olá, Mundo!\n"
          ]
        }
      ]
    },
    {
      "cell_type": "code",
      "source": [
        "nome = input(\"Qual seu nome?\")\n",
        "print(\"Olá,\", nome)"
      ],
      "metadata": {
        "colab": {
          "base_uri": "https://localhost:8080/"
        },
        "id": "MPLZb3adyoGx",
        "outputId": "0bdaffda-286a-4d92-f148-87860103223c"
      },
      "execution_count": null,
      "outputs": [
        {
          "output_type": "stream",
          "name": "stdout",
          "text": [
            "Qual seu nome?Davi\n",
            "Olá, Davi\n"
          ]
        }
      ]
    },
    {
      "cell_type": "code",
      "source": [
        "n = float(input(\"Digite o número 1:\"))\n",
        "m = float(input(\"Digite o número 2:\"))\n",
        "op = input(\"Digite a operação:\")\n",
        "if op == \"+\":\n",
        "  print(n+m)\n",
        "elif op == \"-\":\n",
        "  print(n-m)\n",
        "elif op == \"*\":\n",
        "  print(n*m)\n",
        "elif op == \"/\":\n",
        "  if m == 0:\n",
        "    print(\"erro, não é possível dividir por 0\")\n",
        "  else:\n",
        "    print(n/m)\n",
        "else:\n",
        "  print(\"Tente novamente, operação inválida\")"
      ],
      "metadata": {
        "colab": {
          "base_uri": "https://localhost:8080/"
        },
        "id": "469V5P-Wzb5w",
        "outputId": "300fa515-26de-4e11-c0f4-7cbb6acfd0a5"
      },
      "execution_count": null,
      "outputs": [
        {
          "output_type": "stream",
          "name": "stdout",
          "text": [
            "Digite o número 1:4\n",
            "Digite o número 2:0\n",
            "Digite a operação:.\n",
            "Tente novamente, operação inválida\n"
          ]
        }
      ]
    }
  ]
}